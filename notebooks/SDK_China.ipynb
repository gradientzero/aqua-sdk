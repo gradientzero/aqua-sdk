{
 "cells": [
  {
   "cell_type": "code",
   "execution_count": 1,
   "id": "7b7246a6-cbfe-4d09-92a9-2544e314b892",
   "metadata": {},
   "outputs": [
    {
     "name": "stdout",
     "output_type": "stream",
     "text": [
      "/Users/paolo/Documents/tasks_at_G0/AquaPredict/code/gitlab/dagster-code\n"
     ]
    }
   ],
   "source": [
    "%cd ../../"
   ]
  },
  {
   "cell_type": "code",
   "execution_count": 2,
   "id": "dcdb41b3-d514-421b-a901-983c0f5b2158",
   "metadata": {},
   "outputs": [
    {
     "name": "stdout",
     "output_type": "stream",
     "text": [
      "/Users/paolo/Documents/tasks_at_G0/AquaPredict/code/gitlab/dagster-code\n"
     ]
    }
   ],
   "source": [
    "!pwd"
   ]
  },
  {
   "cell_type": "code",
   "execution_count": 3,
   "id": "c3315b2e-1bde-4cf7-977c-fdb22a9c63ed",
   "metadata": {},
   "outputs": [
    {
     "name": "stdout",
     "output_type": "stream",
     "text": [
      "DEPLOYMENT.md              \u001b[1m\u001b[34mdagster_job_configs\u001b[m\u001b[m\n",
      "Dagster_job_nohup.log      \u001b[1m\u001b[34mdata\u001b[m\u001b[m\n",
      "\u001b[1m\u001b[34mDagster_logs\u001b[m\u001b[m               \u001b[1m\u001b[34mlocal_data\u001b[m\u001b[m\n",
      "Dockerfile                 nohup.out\n",
      "README.md                  \u001b[1m\u001b[34mpapers\u001b[m\u001b[m\n",
      "VERSION                    \u001b[1m\u001b[32mpull.docker.image.sh\u001b[m\u001b[m\n",
      "\u001b[1m\u001b[34maqua_dagster\u001b[m\u001b[m               requirements-dev.txt\n",
      "\u001b[1m\u001b[34maqua_dagster_tests\u001b[m\u001b[m         requirements.txt\n",
      "\u001b[1m\u001b[34maquapredict\u001b[m\u001b[m                \u001b[1m\u001b[34mresults\u001b[m\u001b[m\n",
      "\u001b[1m\u001b[32mbuild.push.docker.image.sh\u001b[m\u001b[m\n"
     ]
    }
   ],
   "source": [
    "!ls"
   ]
  },
  {
   "cell_type": "code",
   "execution_count": 4,
   "id": "1c5080f2-2257-4574-9cdc-5680c7a42027",
   "metadata": {},
   "outputs": [
    {
     "name": "stdout",
     "output_type": "stream",
     "text": [
      "['/Users/paolo/miniconda3/envs/aqua-predict/lib/python311.zip', '/Users/paolo/miniconda3/envs/aqua-predict/lib/python3.11', '/Users/paolo/miniconda3/envs/aqua-predict/lib/python3.11/lib-dynload', '', '/Users/paolo/miniconda3/envs/aqua-predict/lib/python3.11/site-packages', 'aquapredict/']\n"
     ]
    }
   ],
   "source": [
    "import sys\n",
    "\n",
    "sys.path\n",
    "sys.path.append('aquapredict/')\n",
    "print(sys.path)"
   ]
  },
  {
   "cell_type": "code",
   "execution_count": 5,
   "id": "0969b50d-0edb-4186-bc41-0ce98da1a952",
   "metadata": {},
   "outputs": [
    {
     "name": "stdout",
     "output_type": "stream",
     "text": [
      "\n",
      "\n",
      "PRNG seeded with value 0 \n",
      "\n"
     ]
    }
   ],
   "source": [
    "import random\n",
    "\n",
    "import safe_data_provider as sdp\n",
    "\n",
    "seed=0\n",
    "random.seed(seed)\n",
    "print('\\n\\nPRNG seeded with value', seed, '\\n')"
   ]
  },
  {
   "cell_type": "code",
   "execution_count": 6,
   "id": "2fdcb8de-5cea-4a44-a090-51328b5eaecc",
   "metadata": {},
   "outputs": [],
   "source": [
    "lat_bounds = (sdp.China_lat_greatest_lb, sdp.China_lat_least_ub)\n",
    "lon_bounds = (sdp.China_lon_greatest_lb, sdp.China_lon_least_ub)"
   ]
  },
  {
   "cell_type": "markdown",
   "id": "59278837-7bbb-4038-bc77-f01ca6ae5034",
   "metadata": {},
   "source": [
    "### First example "
   ]
  },
  {
   "cell_type": "markdown",
   "id": "64615aca-4960-4a00-a6d9-feb74b7ef2ff",
   "metadata": {},
   "source": [
    "Compute the differentially-private mean groundwater value and the the differentially-private centroid for a set of geographical locations in China:"
   ]
  },
  {
   "cell_type": "code",
   "execution_count": 7,
   "id": "1ce1a8b9-7a75-4a7e-91c9-46fc4d89b023",
   "metadata": {},
   "outputs": [
    {
     "name": "stdout",
     "output_type": "stream",
     "text": [
      "\n",
      "Privacy budget spent: 0.30\n",
      "Privacy budget remaning: 0.7\n",
      "\n",
      "Privacy-preserving estimations:\n",
      "\t - Differentially-private groundwater mean: 8.0 \n",
      "\t - Differentially-private centroid of the geographical locations: (28.17, 73.00)\n"
     ]
    }
   ],
   "source": [
    "sdp.use_case_1(\n",
    "    privacy_budget=1.0,\n",
    "    groundwater_bounds=(0, 10),\n",
    "    lat_bounds=lat_bounds,\n",
    "    lon_bounds=lon_bounds,\n",
    "    epsilon=.3,\n",
    "    num_locations=10,\n",
    "    series_length=1\n",
    ")"
   ]
  },
  {
   "cell_type": "code",
   "execution_count": 8,
   "id": "ce154f84-8411-49f9-a91d-d86704eeef1f",
   "metadata": {},
   "outputs": [
    {
     "name": "stdout",
     "output_type": "stream",
     "text": [
      "\n",
      "Privacy budget spent: 0.62\n",
      "Privacy budget remaning: 0.4\n",
      "\n",
      "Privacy-preserving estimations:\n",
      "\t - Differentially-private groundwater mean: 4.9 \n",
      "\t - Differentially-private centroid of the geographical locations: (35.65, 112.98)\n"
     ]
    }
   ],
   "source": [
    "sdp.use_case_1(\n",
    "    privacy_budget=1.0,\n",
    "    groundwater_bounds=(0, 10),\n",
    "    lat_bounds=lat_bounds,\n",
    "    lon_bounds=lon_bounds,\n",
    "    epsilon=sdp.set_epsilon(privacy_level='low'),\n",
    "    num_locations=10,\n",
    "    series_length=1\n",
    ")"
   ]
  },
  {
   "cell_type": "markdown",
   "id": "b8f40fb8-2f67-4f22-84f2-bc746c7cf525",
   "metadata": {},
   "source": [
    "### Second example "
   ]
  },
  {
   "cell_type": "markdown",
   "id": "c3d3370d-3069-4fc9-93fb-d36bcdec9f0d",
   "metadata": {},
   "source": [
    "Compute a series of three differentially-private mean groundwater values and the differentially-private centroid for a set of geographical locations in China:"
   ]
  },
  {
   "cell_type": "code",
   "execution_count": 9,
   "id": "8d974a5a-b522-43d1-a4a6-f488e00c8be1",
   "metadata": {},
   "outputs": [
    {
     "name": "stdout",
     "output_type": "stream",
     "text": [
      "\n",
      "Privacy budget spent: 0.90\n",
      "Privacy budget remaning: 0.1\n",
      "\n",
      "Privacy-preserving estimations:\n",
      "\t - Differentially-private groundwater mean series: [10.0, 2.9, 10.0] \n",
      "\t - Differentially-private centroid of the geographical locations: (35.72, 92.10)\n"
     ]
    }
   ],
   "source": [
    "sdp.use_case_1(\n",
    "    privacy_budget=1.0,\n",
    "    groundwater_bounds=(0, 10),\n",
    "    lat_bounds=lat_bounds,\n",
    "    lon_bounds=lon_bounds,\n",
    "    epsilon=.3,\n",
    "    num_locations=10,\n",
    "    series_length=3\n",
    ")"
   ]
  },
  {
   "cell_type": "markdown",
   "id": "5f9d821b-584f-46c7-8f9b-76fafb3c245c",
   "metadata": {},
   "source": [
    "### Third example"
   ]
  },
  {
   "cell_type": "code",
   "execution_count": 10,
   "id": "d50fc854-1f1a-4e43-8f4f-21d2518319bf",
   "metadata": {},
   "outputs": [
    {
     "name": "stdout",
     "output_type": "stream",
     "text": [
      "\n",
      "Privacy budget spent: 0.90\n",
      "Privacy budget remaning: 0.1\n",
      "\n",
      "Privacy-preserving estimations:\n",
      "\t - Differentially-private groundwater mean series: [4.7, 5.5, 5.0] \n",
      "\t - Differentially-private centroid of the geographical locations: (34.47, 102.79)\n"
     ]
    },
    {
     "name": "stderr",
     "output_type": "stream",
     "text": [
      "/Users/paolo/miniconda3/envs/aqua-predict/lib/python3.11/site-packages/diffprivlib/tools/utils.py:276: PrivacyLeakWarning: Bounds have not been specified and will be calculated on the data provided. This will result in additional privacy leakage. To ensure differential privacy and no additional privacy leakage, specify bounds for each dimension.\n",
      "  warnings.warn(\"Bounds have not been specified and will be calculated on the data provided. This will \"\n",
      "/Users/paolo/miniconda3/envs/aqua-predict/lib/python3.11/site-packages/diffprivlib/tools/utils.py:276: PrivacyLeakWarning: Bounds have not been specified and will be calculated on the data provided. This will result in additional privacy leakage. To ensure differential privacy and no additional privacy leakage, specify bounds for each dimension.\n",
      "  warnings.warn(\"Bounds have not been specified and will be calculated on the data provided. This will \"\n"
     ]
    }
   ],
   "source": [
    "sdp.use_case_2(\n",
    "    privacy_budget=1.0,\n",
    "    groundwater_bounds=(0, 10),\n",
    "    epsilon=.3,\n",
    "    num_locations=100,\n",
    "    series_length=3\n",
    ")"
   ]
  },
  {
   "cell_type": "code",
   "execution_count": null,
   "id": "c680438e-9d22-480e-b469-4aa3e404168b",
   "metadata": {},
   "outputs": [],
   "source": []
  }
 ],
 "metadata": {
  "kernelspec": {
   "display_name": "Python 3 (ipykernel)",
   "language": "python",
   "name": "python3"
  },
  "language_info": {
   "codemirror_mode": {
    "name": "ipython",
    "version": 3
   },
   "file_extension": ".py",
   "mimetype": "text/x-python",
   "name": "python",
   "nbconvert_exporter": "python",
   "pygments_lexer": "ipython3",
   "version": "3.11.8"
  }
 },
 "nbformat": 4,
 "nbformat_minor": 5
}
