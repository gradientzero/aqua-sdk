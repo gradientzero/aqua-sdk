{
 "cells": [
  {
   "cell_type": "code",
   "execution_count": 1,
   "id": "7b7246a6-cbfe-4d09-92a9-2544e314b892",
   "metadata": {},
   "outputs": [
    {
     "name": "stdout",
     "output_type": "stream",
     "text": [
      "/Users/paolo/Documents/tasks_at_G0/AquaPredict/code/github/aqua-sdk\n"
     ]
    },
    {
     "name": "stderr",
     "output_type": "stream",
     "text": [
      "/Users/paolo/miniconda3/envs/aqua-sdk/lib/python3.12/site-packages/IPython/core/magics/osm.py:417: UserWarning: This is now an optional IPython functionality, setting dhist requires you to install the `pickleshare` library.\n",
      "  self.shell.db['dhist'] = compress_dhist(dhist)[-100:]\n"
     ]
    }
   ],
   "source": [
    "%cd ../"
   ]
  },
  {
   "cell_type": "code",
   "execution_count": 2,
   "id": "0969b50d-0edb-4186-bc41-0ce98da1a952",
   "metadata": {},
   "outputs": [
    {
     "name": "stdout",
     "output_type": "stream",
     "text": [
      "\n",
      "\n",
      "PRNG seeded with value 0 \n",
      "\n"
     ]
    }
   ],
   "source": [
    "import random\n",
    "\n",
    "import safe_data_provider as sdp\n",
    "\n",
    "seed=0\n",
    "random.seed(seed)\n",
    "print('\\n\\nPRNG seeded with value', seed, '\\n')"
   ]
  },
  {
   "cell_type": "markdown",
   "id": "59278837-7bbb-4038-bc77-f01ca6ae5034",
   "metadata": {},
   "source": [
    "### First example "
   ]
  },
  {
   "cell_type": "markdown",
   "id": "e1ae9276-5daf-4eca-ab52-0748371b3e49",
   "metadata": {},
   "source": [
    "In order to generate differentially-private aggregate statistics, it is recommended to provide bounds for the data values. A warning is thrown if the bounds are not specified.  Below we define the bounds for computing the sensitivity of the mean function estimating the differentially-private centroid of the geographical locations."
   ]
  },
  {
   "cell_type": "code",
   "execution_count": 3,
   "id": "dc812ef1-5676-476e-9d87-d188e8980056",
   "metadata": {},
   "outputs": [],
   "source": [
    "lat_bounds = (.99 * sdp.China_lat_greatest_lb, 1.01 * sdp.China_lat_least_ub)\n",
    "lon_bounds = (.99 * sdp.China_lon_greatest_lb, 1.01 * sdp.China_lon_least_ub)"
   ]
  },
  {
   "cell_type": "markdown",
   "id": "64615aca-4960-4a00-a6d9-feb74b7ef2ff",
   "metadata": {},
   "source": [
    "Compute the differentially-private mean groundwater value and the differentially-private centroid for ten  geographical locations in China. The parameter epsilon takes values in [0.0, 1.0] and controls the privacy level. Lower epsilon values yields higher privacy."
   ]
  },
  {
   "cell_type": "code",
   "execution_count": 4,
   "id": "1ce1a8b9-7a75-4a7e-91c9-46fc4d89b023",
   "metadata": {},
   "outputs": [
    {
     "name": "stdout",
     "output_type": "stream",
     "text": [
      "\n",
      "Privacy budget spent: 0.30\n",
      "Privacy budget remaning: 0.7\n",
      "\n",
      "Privacy-preserving estimations:\n",
      "\t - Differentially-private groundwater mean: 12.5 \n",
      "\t - Differentially-private centroid of the geographical locations: (17.82, 136.35)\n"
     ]
    }
   ],
   "source": [
    "sdp.use_case_1(\n",
    "    privacy_budget=1.0,\n",
    "    groundwater_bounds=(0, 15),\n",
    "    lat_bounds=lat_bounds,\n",
    "    lon_bounds=lon_bounds,\n",
    "    epsilon=.3,\n",
    "    num_locations=10,\n",
    "    series_length=1\n",
    ")"
   ]
  },
  {
   "cell_type": "markdown",
   "id": "f6c4f184-1955-48de-a90a-6ddfb1b007b6",
   "metadata": {},
   "source": [
    "The differentially-private groundwater mean value and the differentially-private centroid of the geographical locations can now be sent to the aqua-predict platform."
   ]
  },
  {
   "cell_type": "markdown",
   "id": "77eeb39d-cef2-4ded-bf39-775137b70406",
   "metadata": {},
   "source": [
    "Rather the providing the epsilon value, a convenience function \"set_epsilon\" can be used to set the epsilon value based on the desired privacy level. The available privacy levels are: \"very_high\", \"high\", \"moderate\", \"low\", \"very low\"."
   ]
  },
  {
   "cell_type": "code",
   "execution_count": 5,
   "id": "ce154f84-8411-49f9-a91d-d86704eeef1f",
   "metadata": {},
   "outputs": [
    {
     "name": "stdout",
     "output_type": "stream",
     "text": [
      "\n",
      "Privacy budget spent: 0.62\n",
      "Privacy budget remaning: 0.4\n",
      "\n",
      "Privacy-preserving estimations:\n",
      "\t - Differentially-private groundwater mean: 5.4 \n",
      "\t - Differentially-private centroid of the geographical locations: (22.65, 100.04)\n"
     ]
    }
   ],
   "source": [
    "sdp.use_case_1(\n",
    "    privacy_budget=1.0,\n",
    "    groundwater_bounds=(0, 15),\n",
    "    lat_bounds=lat_bounds,\n",
    "    lon_bounds=lon_bounds,\n",
    "    epsilon=sdp.set_epsilon(privacy_level='low'),\n",
    "    num_locations=10,\n",
    "    series_length=1\n",
    ")"
   ]
  },
  {
   "cell_type": "markdown",
   "id": "b8f40fb8-2f67-4f22-84f2-bc746c7cf525",
   "metadata": {},
   "source": [
    "### Second example "
   ]
  },
  {
   "cell_type": "markdown",
   "id": "c3d3370d-3069-4fc9-93fb-d36bcdec9f0d",
   "metadata": {},
   "source": [
    "Compute a **series** of three (*series_length* set to three) differentially-private mean groundwater values and the differentially-private centroid for ten geographical locations in China:"
   ]
  },
  {
   "cell_type": "code",
   "execution_count": 6,
   "id": "8d974a5a-b522-43d1-a4a6-f488e00c8be1",
   "metadata": {},
   "outputs": [
    {
     "name": "stdout",
     "output_type": "stream",
     "text": [
      "\n",
      "Privacy budget spent: 0.90\n",
      "Privacy budget remaning: 0.1\n",
      "\n",
      "Privacy-preserving estimations:\n",
      "\t - Differentially-private groundwater mean series: [5.7, 4.1, 1.6] \n",
      "\t - Differentially-private centroid of the geographical locations: (42.87, 93.20)\n"
     ]
    }
   ],
   "source": [
    "sdp.use_case_1(\n",
    "    privacy_budget=1.0,\n",
    "    groundwater_bounds=(0, 15),\n",
    "    lat_bounds=lat_bounds,\n",
    "    lon_bounds=lon_bounds,\n",
    "    epsilon=.3,\n",
    "    num_locations=10,\n",
    "    series_length=3\n",
    ")"
   ]
  },
  {
   "cell_type": "markdown",
   "id": "5f9d821b-584f-46c7-8f9b-76fafb3c245c",
   "metadata": {},
   "source": [
    "### Third example"
   ]
  },
  {
   "cell_type": "markdown",
   "id": "16bd7d0a-dd2a-457a-a41f-59228b9b499f",
   "metadata": {},
   "source": [
    "In this example, we estimate mean groundwater values for all the geographical locations lying within a region of interest.\n",
    "The boundary of the region is defined by a polygon. See the Python file *examples.py* containing the function *use_case_2()*. The polygon used in this example is a rectangle enclosing the surface of China. However, polygons with an arbitrary number of vertexes can be used."
   ]
  },
  {
   "cell_type": "code",
   "execution_count": 7,
   "id": "d50fc854-1f1a-4e43-8f4f-21d2518319bf",
   "metadata": {},
   "outputs": [
    {
     "name": "stdout",
     "output_type": "stream",
     "text": [
      "\n",
      "2 geographical locations ignored because they are out of the region of interest\n",
      "\n",
      "Number of locations inside the region of interest: 98\n",
      "\n",
      "Privacy budget spent: 0.90\n",
      "Privacy budget remaning: 0.1\n",
      "\n",
      "Privacy-preserving estimations:\n",
      "\t - Differentially-private groundwater mean series: [4.9, 4.5, 5.6] \n",
      "\t - Differentially-private centroid of the geographical locations: (33.49, 106.21)\n"
     ]
    }
   ],
   "source": [
    "sdp.use_case_2(\n",
    "    privacy_budget=1.0,\n",
    "    groundwater_bounds=(0, 15),\n",
    "    lat_bounds=lat_bounds,\n",
    "    lon_bounds=lon_bounds,\n",
    "    epsilon=.3,\n",
    "    num_locations=100,\n",
    "    series_length=3\n",
    ")"
   ]
  },
  {
   "cell_type": "code",
   "execution_count": null,
   "id": "c680438e-9d22-480e-b469-4aa3e404168b",
   "metadata": {},
   "outputs": [],
   "source": []
  }
 ],
 "metadata": {
  "kernelspec": {
   "display_name": "Python 3 (ipykernel)",
   "language": "python",
   "name": "python3"
  },
  "language_info": {
   "codemirror_mode": {
    "name": "ipython",
    "version": 3
   },
   "file_extension": ".py",
   "mimetype": "text/x-python",
   "name": "python",
   "nbconvert_exporter": "python",
   "pygments_lexer": "ipython3",
   "version": "3.12.4"
  }
 },
 "nbformat": 4,
 "nbformat_minor": 5
}
