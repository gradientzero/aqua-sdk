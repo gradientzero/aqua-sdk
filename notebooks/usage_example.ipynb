{
 "cells": [
  {
   "cell_type": "code",
   "execution_count": 1,
   "id": "7b7246a6-cbfe-4d09-92a9-2544e314b892",
   "metadata": {},
   "outputs": [],
   "source": [
    "import sys\n",
    "\n",
    "sys.path.append('../')"
   ]
  },
  {
   "cell_type": "code",
   "execution_count": 2,
   "id": "0969b50d-0edb-4186-bc41-0ce98da1a952",
   "metadata": {},
   "outputs": [
    {
     "name": "stdout",
     "output_type": "stream",
     "text": [
      "\n",
      "\n",
      "PRNG seeded with value 0 \n",
      "\n"
     ]
    }
   ],
   "source": [
    "import random\n",
    "\n",
    "import safe_data_provider as sdp\n",
    "\n",
    "seed=0\n",
    "random.seed(seed)\n",
    "print('\\n\\nPRNG seeded with value', seed, '\\n')"
   ]
  },
  {
   "cell_type": "markdown",
   "id": "59278837-7bbb-4038-bc77-f01ca6ae5034",
   "metadata": {},
   "source": [
    "### First example "
   ]
  },
  {
   "cell_type": "markdown",
   "id": "8a357601-ad55-448c-bab7-ad9942b4aade",
   "metadata": {},
   "source": [
    "First, every example generates mockup data. The mockup data include:\n",
    " - a set of geographical locations identified by (latitude, longitude) pairs;\n",
    " - a series of sets containing mockup groundwater values. In the first example, the series contains just a single set. In the second and third examples, the series contains three sets."
   ]
  },
  {
   "cell_type": "markdown",
   "id": "e1ae9276-5daf-4eca-ab52-0748371b3e49",
   "metadata": {},
   "source": [
    "In order to generate differentially-private aggregate statistics of the mockup data, it is recommended to provide bounds for the data values. A warning is thrown if the bounds are not specified. Below we define the bounds for the groundwater, latitude and longitude values:"
   ]
  },
  {
   "cell_type": "code",
   "execution_count": 3,
   "id": "dc812ef1-5676-476e-9d87-d188e8980056",
   "metadata": {},
   "outputs": [],
   "source": [
    "groundwater_bounds = (0, 11)\n",
    "lat_bounds = (.99 * sdp.lat_greatest_lb, 1.01 * sdp.lat_least_ub)\n",
    "lon_bounds = (.99 * sdp.lon_greatest_lb, 1.01 * sdp.lon_least_ub)"
   ]
  },
  {
   "cell_type": "markdown",
   "id": "64615aca-4960-4a00-a6d9-feb74b7ef2ff",
   "metadata": {},
   "source": [
    "Compute the differentially-private mean groundwater value and the differentially-private centroid for ten geographical locations generated. A single set (*series_length* set to one) of groudwater values is generated. The parameter epsilon takes values in [0.0, 1.0] and controls the privacy level. Lower epsilon values yields higher privacy."
   ]
  },
  {
   "cell_type": "code",
   "execution_count": 4,
   "id": "1ce1a8b9-7a75-4a7e-91c9-46fc4d89b023",
   "metadata": {},
   "outputs": [
    {
     "name": "stdout",
     "output_type": "stream",
     "text": [
      "\n",
      "\n",
      " ----- Mockup data generated ----- \n",
      "\n",
      "Mockup geographical locations:\n",
      "\tlatitude: 21.70, longitude: 125.45\n",
      "\tlatitude: 35.64, longitude: 115.34\n",
      "\tlatitude: 23.69, longitude: 96.58\n",
      "\tlatitude: 25.80, longitude: 95.59\n",
      "\tlatitude: 39.02, longitude: 74.97\n",
      "\tlatitude: 40.78, longitude: 89.49\n",
      "\tlatitude: 36.52, longitude: 79.28\n",
      "\tlatitude: 21.04, longitude: 95.03\n",
      "\tlatitude: 51.35, longitude: 79.06\n",
      "\tlatitude: 43.06, longitude: 123.84\n",
      "\n",
      "Single set of mockup groundwater values: [2.47, 1.21, 6.29, 1.65, 8.52, 3.91, 4.29, 4.06, 6.9, 7.7]\n",
      "\n",
      "\n",
      " ----- Results of the computation ----- \n",
      "\n",
      "Privacy-preserving estimations:\n",
      "\t - Differentially-private groundwater mean: 4.4 \n",
      "\t - Differentially-private centroid of the geographical locations: (33.73, 72.27)\n",
      "\n",
      "Privacy budget status:\n",
      "\tbudget spent: 0.30\n",
      "\tbudget remaning: 0.7\n"
     ]
    }
   ],
   "source": [
    "sdp.use_case_1(\n",
    "    privacy_budget=1.0,\n",
    "    groundwater_bounds=groundwater_bounds,\n",
    "    lat_bounds=lat_bounds,\n",
    "    lon_bounds=lon_bounds,\n",
    "    epsilon=.3,\n",
    "    num_locations=10,\n",
    "    series_length=1\n",
    ")"
   ]
  },
  {
   "cell_type": "markdown",
   "id": "f6c4f184-1955-48de-a90a-6ddfb1b007b6",
   "metadata": {},
   "source": [
    "The differentially-private groundwater mean value and the differentially-private centroid of the geographical locations can now be sent to the Aqua Predict platform."
   ]
  },
  {
   "cell_type": "markdown",
   "id": "77eeb39d-cef2-4ded-bf39-775137b70406",
   "metadata": {},
   "source": [
    "Rather the providing the epsilon value, a convenience function \"set_epsilon\" can be used to set the epsilon value based on the desired privacy level. The available privacy levels are: \"very_high\", \"high\", \"moderate\", \"low\", \"very low\"."
   ]
  },
  {
   "cell_type": "code",
   "execution_count": 5,
   "id": "ce154f84-8411-49f9-a91d-d86704eeef1f",
   "metadata": {},
   "outputs": [
    {
     "name": "stdout",
     "output_type": "stream",
     "text": [
      "\n",
      "\n",
      " ----- Mockup data generated ----- \n",
      "\n",
      "Mockup geographical locations:\n",
      "\tlatitude: 34.49, longitude: 102.73\n",
      "\tlatitude: 33.32, longitude: 104.68\n",
      "\tlatitude: 44.34, longitude: 122.13\n",
      "\tlatitude: 46.63, longitude: 130.05\n",
      "\tlatitude: 39.22, longitude: 82.70\n",
      "\tlatitude: 51.49, longitude: 119.94\n",
      "\tlatitude: 45.73, longitude: 90.88\n",
      "\tlatitude: 50.81, longitude: 127.52\n",
      "\tlatitude: 39.53, longitude: 90.49\n",
      "\tlatitude: 33.83, longitude: 117.01\n",
      "\n",
      "Single set of mockup groundwater values: [2.68, 6.66, 1.53, 9.16, 4.99, 8.28, 6.68, 3.15, 6.07, 8.68]\n",
      "\n",
      "\n",
      " ----- Results of the computation ----- \n",
      "\n",
      "Privacy-preserving estimations:\n",
      "\t - Differentially-private groundwater mean: 4.5 \n",
      "\t - Differentially-private centroid of the geographical locations: (54.36, 92.54)\n",
      "\n",
      "Privacy budget status:\n",
      "\tbudget spent: 0.54\n",
      "\tbudget remaning: 0.5\n"
     ]
    }
   ],
   "source": [
    "sdp.use_case_1(\n",
    "    privacy_budget=1.0,\n",
    "    groundwater_bounds=groundwater_bounds,\n",
    "    lat_bounds=lat_bounds,\n",
    "    lon_bounds=lon_bounds,\n",
    "    epsilon=sdp.set_epsilon(privacy_level='low'),\n",
    "    num_locations=10,\n",
    "    series_length=1\n",
    ")"
   ]
  },
  {
   "cell_type": "markdown",
   "id": "b8f40fb8-2f67-4f22-84f2-bc746c7cf525",
   "metadata": {},
   "source": [
    "### Second example "
   ]
  },
  {
   "cell_type": "markdown",
   "id": "c3d3370d-3069-4fc9-93fb-d36bcdec9f0d",
   "metadata": {},
   "source": [
    "Compute a **series** of three (parameter *series_length* set to three) differentially-private mean groundwater values and the differentially-private centroid for ten geographical locations:"
   ]
  },
  {
   "cell_type": "code",
   "execution_count": 6,
   "id": "8d974a5a-b522-43d1-a4a6-f488e00c8be1",
   "metadata": {},
   "outputs": [
    {
     "name": "stdout",
     "output_type": "stream",
     "text": [
      "\n",
      "\n",
      " ----- Mockup data generated ----- \n",
      "\n",
      "Mockup geographical locations:\n",
      "\tlatitude: 28.64, longitude: 118.03\n",
      "\tlatitude: 46.18, longitude: 73.85\n",
      "\tlatitude: 28.74, longitude: 104.67\n",
      "\tlatitude: 39.37, longitude: 103.42\n",
      "\tlatitude: 19.01, longitude: 90.14\n",
      "\tlatitude: 44.77, longitude: 80.64\n",
      "\tlatitude: 45.77, longitude: 127.59\n",
      "\tlatitude: 32.09, longitude: 131.70\n",
      "\tlatitude: 20.82, longitude: 128.04\n",
      "\tlatitude: 28.02, longitude: 129.61\n",
      "\n",
      "Series of 3 sets of mockup groundwater values: \n",
      "\tSet 1: [6.09, 3.6, 2.78, 2.96, 6.6, 4.87, 2.65, 9.04, 5.66, 4.19]\n",
      "\tSet 2: [3.74, 5.32, 3.68, 4.25, 9.14, 3.56, 7.56, 5.12, 4.77, 1.59]\n",
      "\tSet 3: [1.82, 5.94, 8.15, 9.13, 8.07, 3.44, 7.41, 2.72, 7.16, 2.99]\n",
      "\n",
      "\n",
      " ----- Results of the computation ----- \n",
      "\n",
      "Privacy-preserving estimations:\n",
      "\t - Differentially-private groundwater mean series: [8.3, 6.7, 4.9] \n",
      "\t - Differentially-private centroid of the geographical locations: (54.54, 80.64)\n",
      "\n",
      "Privacy budget status:\n",
      "\tbudget spent: 0.90\n",
      "\tbudget remaning: 0.1\n"
     ]
    }
   ],
   "source": [
    "sdp.use_case_1(\n",
    "    privacy_budget=1.0,\n",
    "    groundwater_bounds=groundwater_bounds,\n",
    "    lat_bounds=lat_bounds,\n",
    "    lon_bounds=lon_bounds,\n",
    "    epsilon=.3,\n",
    "    num_locations=10,\n",
    "    series_length=3\n",
    ")"
   ]
  },
  {
   "cell_type": "markdown",
   "id": "5f9d821b-584f-46c7-8f9b-76fafb3c245c",
   "metadata": {},
   "source": [
    "### Third example"
   ]
  },
  {
   "cell_type": "markdown",
   "id": "16bd7d0a-dd2a-457a-a41f-59228b9b499f",
   "metadata": {},
   "source": [
    "In this example, we estimate mean groundwater values for all the geographical locations lying within a certain region of interest. The boundary of the region is defined by a polygon. For details, please have a look at the Python file *examples.py* containing the function *use_case_2()*. The polygon used in this example is a rectangle. However, polygons with an arbitrary number of vertexes can be used."
   ]
  },
  {
   "cell_type": "code",
   "execution_count": 7,
   "id": "d50fc854-1f1a-4e43-8f4f-21d2518319bf",
   "metadata": {},
   "outputs": [
    {
     "name": "stdout",
     "output_type": "stream",
     "text": [
      "\n",
      "\n",
      " ----- Mockup data generated ----- \n",
      "\n",
      "Mockup geographical locations:\n",
      "\tlatitude: 28.52, longitude: 131.16\n",
      "\tlatitude: 20.40, longitude: 80.64\n",
      "\tlatitude: 24.18, longitude: 100.03\n",
      "\tlatitude: 46.06, longitude: 81.53\n",
      "\tlatitude: 51.30, longitude: 99.49\n",
      "\tlatitude: 22.71, longitude: 122.77\n",
      "\tlatitude: 30.71, longitude: 82.04\n",
      "\tlatitude: 33.58, longitude: 93.13\n",
      "\tlatitude: 60.00, longitude: 80.00\n",
      "\tlatitude: 15.00, longitude: 50.00\n",
      "\n",
      "Series of 3 sets of mockup groundwater values: \n",
      "\tSet 1: [7.25, 1.76, 9.58, 3.66, 4.94, 1.09, 4.43, 8.8, 7, 5]\n",
      "\tSet 2: [7.61, 2.27, 7.02, 4.16, 9.2, 7.92, 4.41, 8.3, 7, 5]\n",
      "\tSet 3: [3.18, 7.18, 5.64, 9.18, 9.54, 4.31, 3.82, 1.29, 7, 5]\n",
      "\n",
      "2 geographical locations ignored because they are out of the region of interest\n",
      "\n",
      "Number of locations inside the region of interest: 8\n",
      "\n",
      "\n",
      " ----- Results of the computation ----- \n",
      "\n",
      "Privacy-preserving estimations:\n",
      "\t - Differentially-private groundwater mean series: [11.0, 0.0, 9.3] \n",
      "\t - Differentially-private centroid of the geographical locations: (22.73, 99.80)\n",
      "\n",
      "Privacy budget status:\n",
      "\tbudget spent: 0.60\n",
      "\tbudget remaning: 0.4\n"
     ]
    }
   ],
   "source": [
    "sdp.use_case_2(\n",
    "    privacy_budget=1.0,\n",
    "    groundwater_bounds=groundwater_bounds,\n",
    "    lat_bounds=lat_bounds,\n",
    "    lon_bounds=lon_bounds,\n",
    "    epsilon=.2,\n",
    "    num_locations=10,\n",
    "    series_length=3\n",
    ")"
   ]
  },
  {
   "cell_type": "code",
   "execution_count": null,
   "id": "c680438e-9d22-480e-b469-4aa3e404168b",
   "metadata": {},
   "outputs": [],
   "source": []
  }
 ],
 "metadata": {
  "kernelspec": {
   "display_name": "Python 3 (ipykernel)",
   "language": "python",
   "name": "python3"
  },
  "language_info": {
   "codemirror_mode": {
    "name": "ipython",
    "version": 3
   },
   "file_extension": ".py",
   "mimetype": "text/x-python",
   "name": "python",
   "nbconvert_exporter": "python",
   "pygments_lexer": "ipython3",
   "version": "3.12.4"
  }
 },
 "nbformat": 4,
 "nbformat_minor": 5
}
